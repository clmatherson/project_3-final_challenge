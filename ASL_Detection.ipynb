{
 "cells": [
  {
   "cell_type": "code",
   "execution_count": 1,
   "metadata": {},
   "outputs": [],
   "source": [
    "# !pip install opencv-python\n",
    "import cv2 # install ''$ pip install opencv-python'\n",
    "import shutil, os, re, os.path\n",
    "import time\n",
    "import uuid\n",
    "import pandas as pd"
   ]
  },
  {
   "cell_type": "code",
   "execution_count": 2,
   "metadata": {},
   "outputs": [],
   "source": [
    "# Set Image Folders as Variants\n",
    "images_files = 'images/collectedimages'\n",
    "consolidated_files = 'images/consolidatedimages'"
   ]
  },
  {
   "cell_type": "code",
   "execution_count": 3,
   "metadata": {},
   "outputs": [],
   "source": [
    "# Import Words to Create Images for and set the number of images\n",
    "words = pd.read_csv(\"Resources/Words.csv\", header=None)\n",
    "labels = words[0].tolist()\n",
    "number_imgs= 15"
   ]
  },
  {
   "cell_type": "code",
   "execution_count": 4,
   "metadata": {
    "scrolled": true
   },
   "outputs": [
    {
     "name": "stdout",
     "output_type": "stream",
     "text": [
      "Collecting images for Hello\n",
      "Collecting images for Yes\n",
      "Collecting images for No\n",
      "Collecting images for Up\n",
      "Collecting images for Down\n",
      "Collecting images for Fork\n",
      "Collecting images for Eat\n",
      "Collecting images for Drink\n",
      "Collecting images for Name\n",
      "Collecting images for World\n",
      "Collecting images for I_Love_You\n",
      "Collecting images for Stop\n",
      "Collecting images for Go\n",
      "Collecting images for Doctor\n",
      "Collecting images for Help\n",
      "Collecting images for More\n",
      "Collecting images for Quiet\n",
      "Collecting images for Police\n",
      "Collecting images for Good\n",
      "Collecting images for Book\n"
     ]
    }
   ],
   "source": [
    "# Run VideoCapture to collect images and copy to new folders created for each word\n",
    "all_images = []\n",
    "\n",
    "for label in labels:\n",
    "    !mkdir {'images\\collectedimages\\\\' + label}\n",
    "    cap = cv2.VideoCapture(0) # On error, Change 'VideoCapture' Value to (0) and incrementally increase with each attempt\n",
    "    print('Collecting images for {}'.format(label))\n",
    "    time.sleep(3)\n",
    "    for imgnum in range(number_imgs):\n",
    "        ret, frame = cap.read()\n",
    "        imagename = os.path.join(images_files, label, label+'.'+'{}.jpg'.format(str(uuid.uuid1())))\n",
    "        all_images.append(imagename)\n",
    "        cv2.imwrite(imagename, frame)\n",
    "        cv2.imshow('frame', frame)\n",
    "        time.sleep(1)\n",
    "        \n",
    "        if cv2.waitKey(1) & 0xFF == ord('q'):\n",
    "            break\n",
    "    cap.release()"
   ]
  },
  {
   "cell_type": "code",
   "execution_count": 5,
   "metadata": {},
   "outputs": [],
   "source": [
    "# Move all the Image Files from their individual folders to the Consolidated File folder\n",
    "for i in all_images:\n",
    "    shutil.copy(i, consolidated_files)"
   ]
  },
  {
   "cell_type": "code",
   "execution_count": 19,
   "metadata": {},
   "outputs": [],
   "source": [
    "# Once all the files have been moved to the Consolidated Files folder, remove duplicates by\n",
    "# Removing collectedimages files and folders\n",
    "# Remove duplicate files\n",
    "for root, dirs, files in os.walk(images_files):\n",
    "    for file in files:\n",
    "        os.remove(os.path.join(root, file))\n",
    "\n",
    "# remove individual folders\n",
    "for oldi in os.listdir(images_files):\n",
    "    folder = os.path.join(images_files, oldi)\n",
    "    os.rmdir(folder)\n",
    "\n",
    "os.rmdir(images_files)"
   ]
  },
  {
   "cell_type": "markdown",
   "metadata": {},
   "source": [
    "# Use the LabelImg-master app to Name the files"
   ]
  },
  {
   "cell_type": "markdown",
   "metadata": {},
   "source": [
    "### Do this before creating your list"
   ]
  },
  {
   "cell_type": "code",
   "execution_count": 9,
   "metadata": {},
   "outputs": [],
   "source": [
    "# Create a list of all the files in the Consolidated folder\n",
    "# Verify the xlm file was created\n",
    "file_list = []\n",
    "for root, dirs, files in os.walk(consolidated_files):\n",
    "    for file in files:\n",
    "        file_list.append(file)"
   ]
  },
  {
   "cell_type": "code",
   "execution_count": 14,
   "metadata": {},
   "outputs": [
    {
     "data": {
      "text/plain": [
       "[]"
      ]
     },
     "execution_count": 14,
     "metadata": {},
     "output_type": "execute_result"
    }
   ],
   "source": [
    "file_list"
   ]
  },
  {
   "cell_type": "code",
   "execution_count": null,
   "metadata": {},
   "outputs": [],
   "source": []
  }
 ],
 "metadata": {
  "kernelspec": {
   "display_name": "Python 3",
   "language": "python",
   "name": "python3"
  },
  "language_info": {
   "codemirror_mode": {
    "name": "ipython",
    "version": 3
   },
   "file_extension": ".py",
   "mimetype": "text/x-python",
   "name": "python",
   "nbconvert_exporter": "python",
   "pygments_lexer": "ipython3",
   "version": "3.6.10"
  }
 },
 "nbformat": 4,
 "nbformat_minor": 5
}
