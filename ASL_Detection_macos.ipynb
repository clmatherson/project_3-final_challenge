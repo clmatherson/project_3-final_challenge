{
 "cells": [
  {
   "cell_type": "code",
   "execution_count": 16,
   "metadata": {},
   "outputs": [],
   "source": [
    "# !pip install opencv-python\n",
    "import cv2 # install ''$ pip install opencv-python'\n",
    "import shutil, os, re, os.path\n",
    "import time\n",
    "import uuid\n",
    "import pandas as pd"
   ]
  },
  {
   "cell_type": "code",
   "execution_count": 17,
   "metadata": {},
   "outputs": [],
   "source": [
    "# Set Image Folders as Variants\n",
    "images_files = 'images/collectedimages'\n",
    "consolidated_files = 'images/consolidatedimages'\n",
    "\n",
    "# set the number of images\n",
    "number_imgs= 20"
   ]
  },
  {
   "cell_type": "code",
   "execution_count": 18,
   "metadata": {},
   "outputs": [
    {
     "data": {
      "text/plain": [
       "['Hello',\n",
       " 'Yes',\n",
       " 'No',\n",
       " 'Up',\n",
       " 'Down',\n",
       " 'Fork',\n",
       " 'Eat',\n",
       " 'Drink',\n",
       " 'Name',\n",
       " 'World',\n",
       " 'I_Love_You',\n",
       " 'Stop',\n",
       " 'Go',\n",
       " 'Doctor',\n",
       " 'Help',\n",
       " 'More',\n",
       " 'Quiet',\n",
       " 'Police',\n",
       " 'Good',\n",
       " 'Book']"
      ]
     },
     "execution_count": 18,
     "metadata": {},
     "output_type": "execute_result"
    }
   ],
   "source": [
    "# Import Words to Create Images\n",
    "words = pd.read_csv(\"Resources/Words.csv\", header=None)\n",
    "words_list = words[0].tolist()\n",
    "\n",
    "# Replace Any Spaces with Underscore\n",
    "labels = []\n",
    "for spaces in words_list:\n",
    "    ns = spaces.replace(\" \", \"_\")\n",
    "    labels.append(ns)\n",
    "\n",
    "labels"
   ]
  },
  {
   "cell_type": "code",
   "execution_count": 22,
   "metadata": {
    "scrolled": true
   },
   "outputs": [
    {
     "name": "stdout",
     "output_type": "stream",
     "text": [
      "Collecting images for Hello\n",
      "Collecting images for Yes\n",
      "Collecting images for No\n",
      "Collecting images for Up\n",
      "Collecting images for Down\n",
      "Collecting images for Fork\n",
      "Collecting images for Eat\n",
      "Collecting images for Drink\n",
      "Collecting images for Name\n",
      "Collecting images for World\n",
      "Collecting images for I_Love_You\n",
      "Collecting images for Stop\n",
      "Collecting images for Go\n",
      "Collecting images for Doctor\n",
      "Collecting images for Help\n",
      "Collecting images for More\n",
      "Collecting images for Quiet\n",
      "Collecting images for Police\n",
      "Collecting images for Good\n",
      "Collecting images for Book\n"
     ]
    }
   ],
   "source": [
    "# Run VideoCapture to collect images and copy to new folders created for each word\n",
    "all_images = []\n",
    "\n",
    "for label in labels:\n",
    "    !mkdir -p Images/collectedimages/{label}\n",
    "#     os.mkdir(f\"Images/collectedimages/{label}\")\n",
    "    cap = cv2.VideoCapture(0) # On error, Change 'VideoCapture' Value to (0) and incrementally increase with each attempt\n",
    "    print('Collecting images for {}'.format(label))\n",
    "    time.sleep(3)\n",
    "    for imgnum in range(number_imgs):\n",
    "        ret, frame = cap.read()\n",
    "        imagename = os.path.join(images_files, label, label+'.'+'{}.jpg'.format(str(uuid.uuid1())))\n",
    "        all_images.append(imagename)\n",
    "        cv2.imwrite(imagename, frame)\n",
    "        cv2.imshow('frame', frame)\n",
    "        time.sleep(1)\n",
    "        \n",
    "        if cv2.waitKey(1) & 0xFF == ord('q'):\n",
    "            break\n",
    "    cap.release()"
   ]
  },
  {
   "cell_type": "code",
   "execution_count": 23,
   "metadata": {},
   "outputs": [],
   "source": [
    "# Move all the Image Files from their individual folders to the Consolidated File folder\n",
    "for i in all_images:\n",
    "    shutil.copy(i, consolidated_files)"
   ]
  },
  {
   "cell_type": "markdown",
   "metadata": {},
   "source": [
    "### Verify Files Have Been Moved To The Consolidated Files Folder"
   ]
  },
  {
   "cell_type": "code",
   "execution_count": null,
   "metadata": {},
   "outputs": [],
   "source": [
    "# Create a list of all the files in the Consolidated folder\n",
    "# Verify the xlm file was created\n",
    "file_list = []\n",
    "for root, dirs, files in os.walk(consolidated_files):\n",
    "    for file in files:\n",
    "        file_list.append(file)"
   ]
  },
  {
   "cell_type": "code",
   "execution_count": null,
   "metadata": {},
   "outputs": [],
   "source": [
    "file_list[:10]"
   ]
  },
  {
   "cell_type": "markdown",
   "metadata": {},
   "source": [
    "### Once all the files have been moved to the Consolidated Files folder"
   ]
  },
  {
   "cell_type": "code",
   "execution_count": null,
   "metadata": {},
   "outputs": [],
   "source": [
    "# Removing collectedimages files and folders\n",
    "# Remove duplicate files\n",
    "for root, dirs, files in os.walk(images_files):\n",
    "    for file in files:\n",
    "        os.remove(os.path.join(root, file))\n",
    "\n",
    "# remove individual folders\n",
    "for oldi in os.listdir(images_files):\n",
    "    folder = os.path.join(images_files, oldi)\n",
    "    os.rmdir(folder)\n",
    "\n",
    "os.rmdir(images_files)"
   ]
  },
  {
   "cell_type": "markdown",
   "metadata": {},
   "source": [
    "# Use the LabelImg-master app to Name the files"
   ]
  },
  {
   "cell_type": "markdown",
   "metadata": {},
   "source": [
    "folder:labelImg-master\\ $ python labelImg.py"
   ]
  }
 ],
 "metadata": {
  "kernelspec": {
   "display_name": "PythonData",
   "language": "python",
   "name": "pythondata"
  },
  "language_info": {
   "codemirror_mode": {
    "name": "ipython",
    "version": 3
   },
   "file_extension": ".py",
   "mimetype": "text/x-python",
   "name": "python",
   "nbconvert_exporter": "python",
   "pygments_lexer": "ipython3",
   "version": "3.6.12"
  }
 },
 "nbformat": 4,
 "nbformat_minor": 5
}
